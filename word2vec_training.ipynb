{
 "cells": [
  {
   "cell_type": "code",
   "execution_count": 3,
   "metadata": {},
   "outputs": [
    {
     "name": "stdout",
     "output_type": "stream",
     "text": [
      "Training Word2Vec Model...\n",
      "Finished. Elapsed time: 0:10:37.702554\n"
     ]
    }
   ],
   "source": [
    "import time \n",
    "import multiprocessing \n",
    "from datetime import timedelta \n",
    " \n",
    "from gensim.models import word2vec \n",
    " \n",
    "if __name__ == '__main__': \n",
    " \n",
    "    start_time = time.time() \n",
    "    print('Training Word2Vec Model...') \n",
    "    sentences = word2vec.LineSentence('idwiki_new_lower.txt') \n",
    "    id_w2v = word2vec.Word2Vec(sentences, vector_size=300, workers=multiprocessing.cpu_count()-1) \n",
    "    id_w2v.save('idwiki_word2vec_300_new_lower.model') \n",
    "    id_w2v.wv.save_word2vec_format('model300.bin', binary=True) \n",
    "    finish_time = time.time() \n",
    "    print('Finished. Elapsed time: {}'.format(timedelta(seconds=finish_time-start_time)))"
   ]
  },
  {
   "cell_type": "code",
   "execution_count": null,
   "metadata": {},
   "outputs": [],
   "source": []
  }
 ],
 "metadata": {
  "kernelspec": {
   "display_name": "Python 3",
   "language": "python",
   "name": "python3"
  },
  "language_info": {
   "codemirror_mode": {
    "name": "ipython",
    "version": 3
   },
   "file_extension": ".py",
   "mimetype": "text/x-python",
   "name": "python",
   "nbconvert_exporter": "python",
   "pygments_lexer": "ipython3",
   "version": "3.10.7"
  }
 },
 "nbformat": 4,
 "nbformat_minor": 2
}
